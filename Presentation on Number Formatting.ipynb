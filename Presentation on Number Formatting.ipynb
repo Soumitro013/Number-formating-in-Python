{
 "cells": [
  {
   "cell_type": "markdown",
   "id": "394d8f8e",
   "metadata": {},
   "source": [
    "# Number Formatting in Python\n",
    "#### Here, we're going to discuss about some of the tricks those can be used to display any given number in a modified form."
   ]
  },
  {
   "cell_type": "markdown",
   "id": "d233c3c6",
   "metadata": {},
   "source": [
    "## ● Fixed Point Format (Rounding off Notation) :\n",
    "### Notation : '._f' or '._F'  .\n",
    "#### Displays a float number as a fixed-point number upto a certain decimal place."
   ]
  },
  {
   "cell_type": "code",
   "execution_count": 128,
   "id": "54b9b0d5",
   "metadata": {},
   "outputs": [],
   "source": [
    "import math\n",
    "val = float(math.pi)"
   ]
  },
  {
   "cell_type": "code",
   "execution_count": 44,
   "id": "6a1c12a5",
   "metadata": {},
   "outputs": [
    {
     "name": "stdout",
     "output_type": "stream",
     "text": [
      "3.14\n"
     ]
    }
   ],
   "source": [
    "#Syntax 1 (The Old School technique) :\n",
    "print('%.2f'%val) #upto 2digits"
   ]
  },
  {
   "cell_type": "code",
   "execution_count": 129,
   "id": "c144a3aa",
   "metadata": {},
   "outputs": [
    {
     "name": "stdout",
     "output_type": "stream",
     "text": [
      "3.1416\n"
     ]
    }
   ],
   "source": [
    "#Syntax 2 :\n",
    "print(f'{val:.4f}') #upto 4digits"
   ]
  },
  {
   "cell_type": "code",
   "execution_count": 47,
   "id": "f10f9816",
   "metadata": {},
   "outputs": [
    {
     "name": "stdout",
     "output_type": "stream",
     "text": [
      "3.1415927\n"
     ]
    }
   ],
   "source": [
    "#Syntax 3 :\n",
    "print('{:.7F}'.format(val)) #upto 7digits"
   ]
  },
  {
   "cell_type": "markdown",
   "id": "62ea35fd",
   "metadata": {},
   "source": [
    "## ● Exponent Format (Scientific Notation) :\n",
    "### Notation : 'e' or 'E' .\n",
    "#### Displays the number in scientific notation in terms of exponent of 10.\n",
    "#### In the output, 'e+' or 'E+' denotes 10^... ."
   ]
  },
  {
   "cell_type": "code",
   "execution_count": 308,
   "id": "6c947cc7",
   "metadata": {},
   "outputs": [],
   "source": [
    "val = int(21536)"
   ]
  },
  {
   "cell_type": "code",
   "execution_count": 309,
   "id": "f6d9c4b6",
   "metadata": {},
   "outputs": [
    {
     "name": "stdout",
     "output_type": "stream",
     "text": [
      "2.153600e+04\n"
     ]
    }
   ],
   "source": [
    "#Syntax 1 (The Old School technique) :\n",
    "print('%e'%val)"
   ]
  },
  {
   "cell_type": "code",
   "execution_count": 310,
   "id": "61b6ace5",
   "metadata": {},
   "outputs": [
    {
     "name": "stdout",
     "output_type": "stream",
     "text": [
      "2.153600e+04\n"
     ]
    }
   ],
   "source": [
    "#Syntax 2 :\n",
    "print('{:e}'.format(val))"
   ]
  },
  {
   "cell_type": "code",
   "execution_count": 311,
   "id": "03aff829",
   "metadata": {},
   "outputs": [
    {
     "name": "stdout",
     "output_type": "stream",
     "text": [
      "2.153600E+04\n"
     ]
    }
   ],
   "source": [
    "#Syntax 3 :\n",
    "print('{:E}'.format(val))"
   ]
  },
  {
   "cell_type": "markdown",
   "id": "a9584213",
   "metadata": {},
   "source": [
    "## ● General Format :\n",
    "### Notation : 'g' or 'G' .\n",
    "#### Displays the number as a fixed-point number, unless the number is too large .\n",
    "#### In that case, it switches to 'e' or 'E' as exponent notation."
   ]
  },
  {
   "cell_type": "code",
   "execution_count": 304,
   "id": "c3e10d24",
   "metadata": {},
   "outputs": [],
   "source": [
    "#val = int(11963)\n",
    "#val = int(299792458)"
   ]
  },
  {
   "cell_type": "code",
   "execution_count": 305,
   "id": "f5627574",
   "metadata": {},
   "outputs": [
    {
     "name": "stdout",
     "output_type": "stream",
     "text": [
      "2.99792e+08\n"
     ]
    }
   ],
   "source": [
    "#Syntax 1 (The Old School technique) :\n",
    "print('%g'%val)"
   ]
  },
  {
   "cell_type": "code",
   "execution_count": 306,
   "id": "4943ce3b",
   "metadata": {},
   "outputs": [
    {
     "name": "stdout",
     "output_type": "stream",
     "text": [
      "2.99792e+08\n"
     ]
    }
   ],
   "source": [
    "#Syntax 2 :\n",
    "print('{:g}'.format(val))"
   ]
  },
  {
   "cell_type": "code",
   "execution_count": 307,
   "id": "e9c8256a",
   "metadata": {},
   "outputs": [
    {
     "name": "stdout",
     "output_type": "stream",
     "text": [
      "2.99792E+08\n"
     ]
    }
   ],
   "source": [
    "#Syntax 3 :\n",
    "print('{:G}'.format(val))"
   ]
  },
  {
   "cell_type": "markdown",
   "id": "ce2b4c8d",
   "metadata": {},
   "source": [
    "## ● Thousand Separator (,000) :"
   ]
  },
  {
   "cell_type": "code",
   "execution_count": 172,
   "id": "ae28632d",
   "metadata": {},
   "outputs": [],
   "source": [
    "val = int(299792458)"
   ]
  },
  {
   "cell_type": "code",
   "execution_count": 173,
   "id": "0c169a0e",
   "metadata": {},
   "outputs": [
    {
     "name": "stdout",
     "output_type": "stream",
     "text": [
      "299,792,458\n"
     ]
    }
   ],
   "source": [
    "#Syntax 1 :\n",
    "print(f'{val:,}')"
   ]
  },
  {
   "cell_type": "code",
   "execution_count": 174,
   "id": "c4091ae8",
   "metadata": {},
   "outputs": [
    {
     "name": "stdout",
     "output_type": "stream",
     "text": [
      "299,792,458\n"
     ]
    }
   ],
   "source": [
    "#Syntax 2 :\n",
    "print('{:,}'.format(val))"
   ]
  },
  {
   "cell_type": "markdown",
   "id": "8f43a533",
   "metadata": {},
   "source": [
    "## ● Number Format :\n",
    "#### Displays the number as a thousand separated number, unless the number is too large (for decimal numbers only) .\n",
    "#### In that case, it switches to 'f' or 'F' as rounding off notation, 'e' or 'E' as exponent notation."
   ]
  },
  {
   "cell_type": "code",
   "execution_count": 238,
   "id": "02ac5859",
   "metadata": {},
   "outputs": [
    {
     "name": "stdout",
     "output_type": "stream",
     "text": [
      "9,74,82,37,494\n"
     ]
    }
   ],
   "source": [
    "#e.g.1 :\n",
    "val = int(9748237494)\n",
    "print(f'{val:n}')"
   ]
  },
  {
   "cell_type": "code",
   "execution_count": 256,
   "id": "cdc9f07c",
   "metadata": {
    "scrolled": true
   },
   "outputs": [
    {
     "name": "stdout",
     "output_type": "stream",
     "text": [
      "2,441.14\n"
     ]
    }
   ],
   "source": [
    "#e.g.2 :\n",
    "val = float(2441.139)\n",
    "print(f'{val:n}')"
   ]
  },
  {
   "cell_type": "code",
   "execution_count": 257,
   "id": "15960b69",
   "metadata": {},
   "outputs": [
    {
     "name": "stdout",
     "output_type": "stream",
     "text": [
      "2.44114e+06\n"
     ]
    }
   ],
   "source": [
    "#e.g.3 :\n",
    "val = float(2441139.931)\n",
    "print('{:n}'.format(val))"
   ]
  },
  {
   "cell_type": "markdown",
   "id": "1c52072d",
   "metadata": {},
   "source": [
    "## ● Padding with Zeros :\n",
    "### Notation : '0>_ ' or '0<_ ' .\n",
    "#### Displays the number in the given size (including '.'), filling with zeros to the Left or Right.\n",
    "p.s. : (We can also fill using any other number)"
   ]
  },
  {
   "cell_type": "markdown",
   "id": "844eff2e",
   "metadata": {},
   "source": [
    "### Left :"
   ]
  },
  {
   "cell_type": "code",
   "execution_count": 258,
   "id": "0a986c16",
   "metadata": {},
   "outputs": [
    {
     "name": "stdout",
     "output_type": "stream",
     "text": [
      "00104\n"
     ]
    }
   ],
   "source": [
    "#Syntax 1 :\n",
    "val = int(104)\n",
    "print(f'{val:0>5}')"
   ]
  },
  {
   "cell_type": "code",
   "execution_count": 259,
   "id": "5074a2ef",
   "metadata": {},
   "outputs": [
    {
     "name": "stdout",
     "output_type": "stream",
     "text": [
      "098.3\n"
     ]
    }
   ],
   "source": [
    "#Syntax 2 :\n",
    "val = float(98.3)\n",
    "print('{:0>5}'.format(val))"
   ]
  },
  {
   "cell_type": "markdown",
   "id": "b907b4cb",
   "metadata": {},
   "source": [
    "### Right :"
   ]
  },
  {
   "cell_type": "code",
   "execution_count": 260,
   "id": "ba528dc8",
   "metadata": {},
   "outputs": [
    {
     "name": "stdout",
     "output_type": "stream",
     "text": [
      "108000\n"
     ]
    }
   ],
   "source": [
    "#Syntax 1 :\n",
    "val = int(108)\n",
    "print(f'{val:0<6}')"
   ]
  },
  {
   "cell_type": "code",
   "execution_count": 261,
   "id": "e7020785",
   "metadata": {
    "scrolled": true
   },
   "outputs": [
    {
     "name": "stdout",
     "output_type": "stream",
     "text": [
      "92.700\n"
     ]
    }
   ],
   "source": [
    "#Syntax 2 :\n",
    "val = float(92.7)\n",
    "print('{:0<6}'.format(val))"
   ]
  },
  {
   "cell_type": "markdown",
   "id": "2016722b",
   "metadata": {},
   "source": [
    "##### *There are many more formats like 'b'(Binary), 'o'(Octal), 'd'(Decimal i.e.usual no. system), 'x' or 'X'(Hexadecimal), 'c'(Unicode Character) etc.\n",
    "##### Those are more than enough to perform any given task regurding the number formatting.\n"
   ]
  },
  {
   "cell_type": "markdown",
   "id": "7e9dabb3",
   "metadata": {},
   "source": [
    "### Thank you for Your attention,\n",
    "#### Soumitro Mukherjee,  Amrita Chatterjee."
   ]
  }
 ],
 "metadata": {
  "kernelspec": {
   "display_name": "Python 3",
   "language": "python",
   "name": "python3"
  },
  "language_info": {
   "codemirror_mode": {
    "name": "ipython",
    "version": 3
   },
   "file_extension": ".py",
   "mimetype": "text/x-python",
   "name": "python",
   "nbconvert_exporter": "python",
   "pygments_lexer": "ipython3",
   "version": "3.8.8"
  }
 },
 "nbformat": 4,
 "nbformat_minor": 5
}
